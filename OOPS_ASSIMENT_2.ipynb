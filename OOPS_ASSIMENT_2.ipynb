{
 "cells": [
  {
   "cell_type": "code",
   "execution_count": 1,
   "id": "d8270243-3176-42e0-a4d7-252ebc632cbb",
   "metadata": {},
   "outputs": [
    {
     "name": "stdout",
     "output_type": "stream",
     "text": [
      "Car: 2022 Toyota Camry\n",
      "Car: 2023 Tesla Model S\n"
     ]
    }
   ],
   "source": [
    "'''\n",
    "Q1. Explain Class and Object with respect to Object-Oriented Programming. Give a suitable example.\n",
    "'''\n",
    "# Define a class named Car\n",
    "class Car:\n",
    "    # Constructor method to initialize attributes\n",
    "    def __init__(self, make, model, year):\n",
    "        self.make = make        # Attribute: make of the car\n",
    "        self.model = model      # Attribute: model of the car\n",
    "        self.year = year        # Attribute: year of the car\n",
    "\n",
    "    # Method to display car information\n",
    "    def display_info(self):\n",
    "        print(f\"Car: {self.year} {self.make} {self.model}\")\n",
    "\n",
    "# Creating objects (instances) of class Car\n",
    "car1 = Car(\"Toyota\", \"Camry\", 2022)\n",
    "car2 = Car(\"Tesla\", \"Model S\", 2023)\n",
    "\n",
    "# Accessing attributes and calling methods of objects\n",
    "car1.display_info()   # Output: Car: 2022 Toyota Camry\n",
    "car2.display_info()   # Output: Car: 2023 Tesla Model S\n"
   ]
  },
  {
   "cell_type": "code",
   "execution_count": null,
   "id": "8ed4125c-5605-4042-9f3c-f074fb6c1712",
   "metadata": {},
   "outputs": [],
   "source": [
    "'''\n",
    "Q2. Name the four pillars of OOPs.\n",
    "'''\n",
    "Encapsulation: Encapsulation refers to the bundling of data (attributes) and methods (functions) that operate on the data into a single unit (class). It restricts direct access to some of an object's components, providing a way to protect data from accidental modification.\n",
    "\n",
    "Abstraction: Abstraction is the process of hiding the complex implementation details and exposing only the essential features of an object. It focuses on what an object does rather than how it does it, enabling effective management and understanding of large systems.\n",
    "\n",
    "Inheritance: Inheritance is the mechanism by which one class (child or derived class) can inherit or acquire the properties (attributes and methods) and behaviors of another class (parent or base class). It promotes code reusability and facilitates hierarchical classification.\n",
    "\n",
    "Polymorphism: Polymorphism means the ability of different objects to respond in unique ways to the same message or method invocation. It allows methods to be written to handle objects of different classes in a unified manner, providing flexibility and extensibility in OOP"
   ]
  },
  {
   "cell_type": "code",
   "execution_count": 3,
   "id": "fd32d185-8d21-4c97-b0ad-6ce1d21e3a33",
   "metadata": {},
   "outputs": [
    {
     "name": "stdout",
     "output_type": "stream",
     "text": [
      "Name: Alice, Age: 30\n",
      "Name: Bob, Age: 25\n"
     ]
    }
   ],
   "source": [
    "'''\n",
    "Q3. Explain why the __init__() function is used. Give a suitable example.\n",
    "'''\n",
    "# Define a class named Person\n",
    "class Person:\n",
    "    # Constructor method to initialize attributes\n",
    "    def __init__(self, name, age):\n",
    "        self.name = name    # Attribute: name of the person\n",
    "        self.age = age      # Attribute: age of the person\n",
    "\n",
    "    # Method to display person's information\n",
    "    def display_info(self):\n",
    "        print(f\"Name: {self.name}, Age: {self.age}\")\n",
    "\n",
    "# Creating objects (instances) of class Person\n",
    "person1 = Person(\"Alice\", 30)\n",
    "person2 = Person(\"Bob\", 25)\n",
    "\n",
    "# Accessing attributes and calling methods of objects\n",
    "person1.display_info()   # Output: Name: Alice, Age: 30\n",
    "person2.display_info()   # Output: Name: Bob, Age: 25\n",
    "\n"
   ]
  },
  {
   "cell_type": "code",
   "execution_count": 5,
   "id": "611afb36-90ab-44c1-a23c-1c5f713b7ca3",
   "metadata": {},
   "outputs": [
    {
     "name": "stdout",
     "output_type": "stream",
     "text": [
      "Hello, my name is Alice\n",
      "Hello, my name is Bob\n"
     ]
    }
   ],
   "source": [
    "'''\n",
    "Q4. Why self is used in OOPs?\n",
    "'''\n",
    "# Define a class named Person\n",
    "class Person:\n",
    "    def __init__(self, name):\n",
    "        self.name = name   # Instance variable\n",
    "\n",
    "    def greet(self):\n",
    "        return f\"Hello, my name is {self.name}\"\n",
    "\n",
    "# Create an instance of Person\n",
    "person1 = Person(\"Alice\")\n",
    "person2 = Person(\"Bob\")\n",
    "\n",
    "# Access instance methods using self\n",
    "print(person1.greet())   # Output: Hello, my name is Alice\n",
    "print(person2.greet())   # Output: Hello, my name is Bob\n"
   ]
  },
  {
   "cell_type": "code",
   "execution_count": null,
   "id": "96152768-d366-4aa5-9e6a-58826a7ec411",
   "metadata": {},
   "outputs": [],
   "source": [
    "'''\n",
    "Q5. What is inheritance? Give an example for each type of inheritance.\n",
    "'''\n",
    "#Single Inheritance\n",
    "# Base class\n",
    "class Animal:\n",
    "    def sound(self):\n",
    "        print(\"Animal makes a sound.\")\n",
    "\n",
    "# Derived class inheriting from Animal\n",
    "class Dog(Animal):\n",
    "    def bark(self):\n",
    "        print(\"Dog barks.\")\n",
    "\n",
    "# Creating an instance of Dog\n",
    "dog = Dog()\n",
    "dog.sound()  # Accessing method from base class\n",
    "dog.bark()   # Accessing method from derived class\n",
    "#Multiple Inheritance:\n",
    "# Base class 1\n",
    "class Bird:\n",
    "    def fly(self):\n",
    "        print(\"Bird can fly.\")\n",
    "\n",
    "# Base class 2\n",
    "class Mammal:\n",
    "    def walk(self):\n",
    "        print(\"Mammal can walk.\")\n",
    "\n",
    "# Derived class inheriting from both Bird and Mammal\n",
    "class Bat(Bird, Mammal):\n",
    "    def sound(self):\n",
    "        print(\"Bat makes a sound.\")\n",
    "\n",
    "# Creating an instance of Bat\n",
    "bat = Bat()\n",
    "bat.fly()   # Accessing method from Bird class\n",
    "bat.walk()  # Accessing method from Mammal class\n",
    "bat.sound() # Accessing method from Bat class\n",
    "#Multilevel Inheritance:\n",
    "# Base class\n",
    "class Animal:\n",
    "    def sound(self):\n",
    "        print(\"Animal makes a sound.\")\n",
    "\n",
    "# Derived class inheriting from Animal\n",
    "class Dog(Animal):\n",
    "    def bark(self):\n",
    "        print(\"Dog barks.\")\n",
    "\n",
    "# Further derived class from Dog\n",
    "class Labrador(Dog):\n",
    "    def color(self):\n",
    "        print(\"Labrador is black.\")\n",
    "\n",
    "# Creating an instance of Labrador\n",
    "labrador = Labrador()\n",
    "labrador.sound()  # Accessing method from Animal class\n",
    "labrador.bark()   # Accessing method from Dog class\n",
    "labrador.color()  # Accessing method from Labrador class\n",
    "#Hierarchical Inheritance:\n"
   ]
  }
 ],
 "metadata": {
  "kernelspec": {
   "display_name": "Python 3 (ipykernel)",
   "language": "python",
   "name": "python3"
  },
  "language_info": {
   "codemirror_mode": {
    "name": "ipython",
    "version": 3
   },
   "file_extension": ".py",
   "mimetype": "text/x-python",
   "name": "python",
   "nbconvert_exporter": "python",
   "pygments_lexer": "ipython3",
   "version": "3.12.4"
  }
 },
 "nbformat": 4,
 "nbformat_minor": 5
}
